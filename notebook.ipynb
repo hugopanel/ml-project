{
 "cells": [
  {
   "cell_type": "markdown",
   "metadata": {},
   "source": [
    "# Projet de Machine Learning\n",
    "\n",
    "Observations et exploration des données :\n",
    "- Les données contiennent des valeurs NaN.\n",
    "- Des valeurs sont manquantes (ex: l'id 1 n'existe pas) --> Ces valeurs se trouvent dans DataNew_X.csv !\n",
    "- Les fichiers Data_X.csv et DataNew_X.csv contiennent bien les mêmes arguments (colonnes)."
   ]
  },
  {
   "cell_type": "markdown",
   "metadata": {},
   "source": [
    "## Importation des librairies"
   ]
  },
  {
   "cell_type": "code",
   "execution_count": 116,
   "metadata": {
    "ExecuteTime": {
     "end_time": "2023-05-03T14:40:21.374281Z",
     "start_time": "2023-05-03T14:40:21.360293Z"
    }
   },
   "outputs": [
    {
     "name": "stdout",
     "output_type": "stream",
     "text": [
      "        ID  DAY_ID COUNTRY  DE_CONSUMPTION  FR_CONSUMPTION  DE_FR_EXCHANGE   \n",
      "0     1054     206      FR        0.210099       -0.427458       -0.606523  \\\n",
      "1     2049     501      FR       -0.022399       -1.003452       -0.022063   \n",
      "2     1924     687      FR        1.395035        1.978665        1.021305   \n",
      "3      297     720      DE       -0.983324       -0.849198       -0.839586   \n",
      "4     1101     818      FR        0.143807       -0.617038       -0.924990   \n",
      "...    ...     ...     ...             ...             ...             ...   \n",
      "1489   459     809      DE        1.529204        1.106682       -1.855327   \n",
      "1490  1674     887      FR        1.618582        1.752840        0.611392   \n",
      "1491   748    1083      DE        0.856399        0.489199       -0.255778   \n",
      "1492  1454    1133      FR        0.560689       -0.343777       -0.830239   \n",
      "1493   359    1118      DE        0.226730       -0.711005        0.873016   \n",
      "\n",
      "      FR_DE_EXCHANGE  DE_NET_EXPORT  FR_NET_EXPORT  DE_NET_IMPORT  ...   \n",
      "0           0.606523            NaN       0.692860            NaN  ...  \\\n",
      "1           0.022063      -0.573520      -1.130838       0.573520  ...   \n",
      "2          -1.021305      -0.622021      -1.682587       0.622021  ...   \n",
      "3           0.839586      -0.270870       0.563230       0.270870  ...   \n",
      "4           0.924990            NaN       0.990324            NaN  ...   \n",
      "...              ...            ...            ...            ...  ...   \n",
      "1489        1.855327      -0.218658       1.450426       0.218658  ...   \n",
      "1490       -0.611392       0.449153      -0.152146      -0.449153  ...   \n",
      "1491        0.255778      -1.531544      -0.829568       1.531544  ...   \n",
      "1492        0.830239      -0.304856       1.210230       0.304856  ...   \n",
      "1493       -0.873016       0.296651      -1.547075      -0.296651  ...   \n",
      "\n",
      "       FR_RAIN   DE_WIND   FR_WIND   DE_TEMP   FR_TEMP   GAS_RET  COAL_RET   \n",
      "0    -0.556356 -0.790823 -0.283160 -1.069070 -0.063404  0.339041  0.124552  \\\n",
      "1    -0.770457  1.522331  0.828412  0.437419  1.831241 -0.659091  0.047114   \n",
      "2    -0.313338  0.431134  0.487608  0.684884  0.114836  0.535974  0.743338   \n",
      "3    -0.507570 -0.499409 -0.236249  0.350938 -0.417514  0.911652 -0.296168   \n",
      "4    -0.424550 -1.088158 -1.011560  0.614338  0.729495  0.245109  1.526606   \n",
      "...        ...       ...       ...       ...       ...       ...       ...   \n",
      "1489       NaN       NaN       NaN       NaN       NaN  0.876984  0.819520   \n",
      "1490       NaN       NaN       NaN       NaN       NaN  0.932633 -0.085690   \n",
      "1491  0.404763 -0.594595  0.894011  0.256338  0.402316 -1.112899 -0.237835   \n",
      "1492 -0.390304 -0.972088 -1.501930  1.215528  1.338708  0.962812 -5.392852   \n",
      "1493 -0.744355 -0.482286 -0.941070 -0.120703  0.391491  1.059829 -0.326640   \n",
      "\n",
      "      CARBON_RET    ID    TARGET  \n",
      "0      -0.002445  1054  0.028313  \n",
      "1      -0.490365  2049 -0.112516  \n",
      "2       0.204952  1924 -0.180840  \n",
      "3       1.073948   297 -0.260356  \n",
      "4       2.614378  1101 -0.071733  \n",
      "...          ...   ...       ...  \n",
      "1489    1.320373   459 -0.172597  \n",
      "1490    0.356356  1674 -0.063546  \n",
      "1491    0.067152   748  0.151797  \n",
      "1492   -0.843812  1454 -0.640917  \n",
      "1493   -0.566724   359 -0.252764  \n",
      "\n",
      "[1494 rows x 37 columns]\n"
     ]
    }
   ],
   "source": [
    "import pandas as pd\n",
    "import numpy as np\n",
    "import matplotlib.pyplot as plt\n",
    "import seaborn as sn\n",
    "from sklearn import *\n",
    "from sklearn.model_selection import KFold, train_test_split\n",
    "\n",
    "X = pd.read_csv('Data/Data_X.csv')  # Données\n",
    "y = pd.read_csv('Data/Data_Y.csv')  # Classes\n",
    "\n",
    "# Regrouper X et Y\n",
    "data = pd.concat([X, y], axis=1)\n",
    "print(data)\n",
    "\n",
    "# print(X.info())\n",
    "# print(X.describe())\n",
    "\n",
    "\n",
    "# Nettoyer les données\n",
    "## Supprimer les données nulles\n",
    "## Supprimer les données aberrantes\n",
    "\n",
    "# kf = KFold(n_splits=5)  # On split en 5 groupes (pour l'instant)\n",
    "# for train, test in kf.split(X):\n",
    "#     pass\n",
    "#\n",
    "# df = pd.DataFrame(X)\n",
    "# print(df)"
   ]
  },
  {
   "cell_type": "markdown",
   "metadata": {},
   "source": [
    "# Choix du modèle\n",
    "\n",
    "-> On dispose de valeurs continues.\n",
    "-> On ne souhaite pas donner une classe prédéfinie, mais prédire une valeur continue.\n",
    "On va prendre un *algorithme de régression*.\n",
    "\n",
    "Le sujet nous impose de modéliser les modèles suivants :\n",
    "1. Régression linéaire simple\n",
    "2. Régression linéaire régularisée (régression RIDGE + régression LASSO)\n",
    "3. Méthode des k plus proches voisins pour la régression (K-NN regressor)\n",
    "4. Arbres de décision pour la régression\n",
    "5. (Bonus) Forêts aléatoires\n"
   ]
  },
  {
   "cell_type": "markdown",
   "metadata": {},
   "source": [
    "# Nettoyage des données\n",
    "\n",
    "Premièrement, il faut explorer les données avec data.info(), data.describe() et data.isnull().\n",
    "On remarque que certaines cellules ont pour valeur NaN. On peut choisir :\n",
    "- de supprimer les lignes qui contiennent des valeurs nulles, avec X.dropna() par exemple,\n",
    "- de remplir les cellules nulles, avec X.fillna(nouvelle_valeur).\n",
    "\n",
    "On peut aussi choisir de modifier des valeurs aberrantes avec X.replace(valeur, nouvelle) ou de les supprimer (on remplace par np.nan puis on supprime comme au-dessus)."
   ]
  },
  {
   "cell_type": "code",
   "execution_count": 117,
   "metadata": {
    "ExecuteTime": {
     "end_time": "2023-05-03T14:40:21.421284Z",
     "start_time": "2023-05-03T14:40:21.375419Z"
    }
   },
   "outputs": [
    {
     "data": {
      "text/plain": "Index(['ID', 'DAY_ID', 'COUNTRY', 'DE_CONSUMPTION', 'FR_CONSUMPTION',\n       'DE_FR_EXCHANGE', 'FR_DE_EXCHANGE', 'DE_NET_EXPORT', 'FR_NET_EXPORT',\n       'DE_NET_IMPORT', 'FR_NET_IMPORT', 'DE_GAS', 'FR_GAS', 'DE_COAL',\n       'FR_COAL', 'DE_HYDRO', 'FR_HYDRO', 'DE_NUCLEAR', 'FR_NUCLEAR',\n       'DE_SOLAR', 'FR_SOLAR', 'DE_WINDPOW', 'FR_WINDPOW', 'DE_LIGNITE',\n       'DE_RESIDUAL_LOAD', 'FR_RESIDUAL_LOAD', 'DE_RAIN', 'FR_RAIN', 'DE_WIND',\n       'FR_WIND', 'DE_TEMP', 'FR_TEMP', 'GAS_RET', 'COAL_RET', 'CARBON_RET',\n       'ID', 'TARGET'],\n      dtype='object')"
     },
     "execution_count": 117,
     "metadata": {},
     "output_type": "execute_result"
    }
   ],
   "source": [
    "# On observe les différentes colonnes :\n",
    "data.columns"
   ]
  },
  {
   "cell_type": "code",
   "execution_count": 118,
   "metadata": {
    "ExecuteTime": {
     "end_time": "2023-05-03T14:40:21.421575Z",
     "start_time": "2023-05-03T14:40:21.380405Z"
    }
   },
   "outputs": [
    {
     "data": {
      "text/plain": "ID                    0\nDAY_ID                0\nCOUNTRY               0\nDE_CONSUMPTION        0\nFR_CONSUMPTION        0\nDE_FR_EXCHANGE       25\nFR_DE_EXCHANGE       25\nDE_NET_EXPORT       124\nFR_NET_EXPORT        70\nDE_NET_IMPORT       124\nFR_NET_IMPORT        70\nDE_GAS                0\nFR_GAS                0\nDE_COAL               0\nFR_COAL               0\nDE_HYDRO              0\nFR_HYDRO              0\nDE_NUCLEAR            0\nFR_NUCLEAR            0\nDE_SOLAR              0\nFR_SOLAR              0\nDE_WINDPOW            0\nFR_WINDPOW            0\nDE_LIGNITE            0\nDE_RESIDUAL_LOAD      0\nFR_RESIDUAL_LOAD      0\nDE_RAIN              94\nFR_RAIN              94\nDE_WIND              94\nFR_WIND              94\nDE_TEMP              94\nFR_TEMP              94\nGAS_RET               0\nCOAL_RET              0\nCARBON_RET            0\nID                    0\nTARGET                0\ndtype: int64"
     },
     "execution_count": 118,
     "metadata": {},
     "output_type": "execute_result"
    }
   ],
   "source": [
    "# Combien y a-t-il de valeurs nulles par colonne ?\n",
    "data.isnull().sum()"
   ]
  },
  {
   "cell_type": "code",
   "execution_count": 119,
   "metadata": {
    "ExecuteTime": {
     "end_time": "2023-05-03T14:40:21.422483Z",
     "start_time": "2023-05-03T14:40:21.384566Z"
    }
   },
   "outputs": [
    {
     "data": {
      "text/plain": "ID                  0\nDAY_ID              0\nCOUNTRY             0\nDE_CONSUMPTION      0\nFR_CONSUMPTION      0\nDE_FR_EXCHANGE      0\nFR_DE_EXCHANGE      0\nDE_NET_EXPORT       0\nFR_NET_EXPORT       0\nDE_NET_IMPORT       0\nFR_NET_IMPORT       0\nDE_GAS              0\nFR_GAS              0\nDE_COAL             0\nFR_COAL             0\nDE_HYDRO            0\nFR_HYDRO            0\nDE_NUCLEAR          0\nFR_NUCLEAR          0\nDE_SOLAR            0\nFR_SOLAR            0\nDE_WINDPOW          0\nFR_WINDPOW          0\nDE_LIGNITE          0\nDE_RESIDUAL_LOAD    0\nFR_RESIDUAL_LOAD    0\nDE_RAIN             0\nFR_RAIN             0\nDE_WIND             0\nFR_WIND             0\nDE_TEMP             0\nFR_TEMP             0\nGAS_RET             0\nCOAL_RET            0\nCARBON_RET          0\nID                  0\nTARGET              0\ndtype: int64"
     },
     "execution_count": 119,
     "metadata": {},
     "output_type": "execute_result"
    }
   ],
   "source": [
    "# On supprime les lignes qui contiennent des valeurs null :\n",
    "data = data.dropna()\n",
    "data.isnull().sum()"
   ]
  },
  {
   "cell_type": "code",
   "execution_count": 120,
   "metadata": {
    "ExecuteTime": {
     "end_time": "2023-05-03T14:40:21.422921Z",
     "start_time": "2023-05-03T14:40:21.390715Z"
    }
   },
   "outputs": [
    {
     "data": {
      "text/plain": "                ID       DAY_ID  DE_CONSUMPTION  FR_CONSUMPTION   \ncount  1276.000000  1276.000000     1276.000000     1276.000000  \\\nmean   1077.272727   588.365987        0.358323       -0.114128   \nstd     647.608506   342.278568        0.667052        0.862587   \nmin       0.000000     1.000000       -2.265563       -1.462350   \n25%     530.500000   292.000000       -0.076672       -0.740151   \n50%    1159.500000   586.000000        0.281250       -0.470896   \n75%    1610.250000   884.250000        0.862662        0.436629   \nmax    2146.000000  1212.000000        2.033851        2.455052   \n\n       DE_FR_EXCHANGE  FR_DE_EXCHANGE  DE_NET_EXPORT  FR_NET_EXPORT   \ncount     1276.000000     1276.000000    1276.000000    1276.000000  \\\nmean        -0.139238        0.139238      -0.268127      -0.103871   \nstd          0.978287        0.978287       0.966510       1.100724   \nmin         -2.856874       -2.634831      -2.464849      -2.825331   \n25%         -0.963290       -0.654735      -1.008176      -0.895526   \n50%         -0.105837        0.105837      -0.335690       0.065382   \n75%          0.654735        0.963290       0.452252       0.819463   \nmax          2.634831        2.856874       2.279619       1.951516   \n\n       DE_NET_IMPORT  FR_NET_IMPORT  ...      FR_RAIN      DE_WIND   \ncount    1276.000000    1276.000000  ...  1276.000000  1276.000000  \\\nmean        0.268127       0.103871  ...     0.003353     0.186522   \nstd         0.966510       1.100724  ...     1.056972     1.071384   \nmin        -2.279619      -1.951516  ...    -1.726420    -1.880419   \n25%        -0.452252      -0.819463  ...    -0.522646    -0.616389   \n50%         0.335690      -0.065382  ...    -0.238458    -0.176477   \n75%         1.008176       0.895526  ...     0.148034     0.764577   \nmax         2.464849       2.825331  ...     9.473201     5.085624   \n\n           FR_WIND      DE_TEMP      FR_TEMP      GAS_RET     COAL_RET   \ncount  1276.000000  1276.000000  1276.000000  1276.000000  1276.000000  \\\nmean      0.198205     0.009948     0.010945     0.063241     0.029728   \nstd       1.069974     0.943305     0.998779     1.115762     1.026389   \nmin      -1.895319    -4.549638    -5.787097    -5.349463    -5.392852   \n25%      -0.627847    -0.612091    -0.668435    -0.651410    -0.468260   \n50%      -0.132396    -0.034815    -0.032882     0.000000     0.035338   \n75%       0.984079     0.630895     0.702167     0.697493     0.620505   \nmax       4.965028     2.858758     2.817239     5.674778     3.607281   \n\n        CARBON_RET           ID       TARGET  \ncount  1276.000000  1276.000000  1276.000000  \nmean      0.066230  1077.272727     0.093677  \nstd       1.119411   647.608506     1.071405  \nmin      -4.281790     0.000000    -6.519268  \n25%      -0.545607   530.500000    -0.245709  \n50%       0.028797  1159.500000    -0.005201  \n75%       0.588373  1610.250000     0.285540  \nmax       5.471818  2146.000000     7.786578  \n\n[8 rows x 36 columns]",
      "text/html": "<div>\n<style scoped>\n    .dataframe tbody tr th:only-of-type {\n        vertical-align: middle;\n    }\n\n    .dataframe tbody tr th {\n        vertical-align: top;\n    }\n\n    .dataframe thead th {\n        text-align: right;\n    }\n</style>\n<table border=\"1\" class=\"dataframe\">\n  <thead>\n    <tr style=\"text-align: right;\">\n      <th></th>\n      <th>ID</th>\n      <th>DAY_ID</th>\n      <th>DE_CONSUMPTION</th>\n      <th>FR_CONSUMPTION</th>\n      <th>DE_FR_EXCHANGE</th>\n      <th>FR_DE_EXCHANGE</th>\n      <th>DE_NET_EXPORT</th>\n      <th>FR_NET_EXPORT</th>\n      <th>DE_NET_IMPORT</th>\n      <th>FR_NET_IMPORT</th>\n      <th>...</th>\n      <th>FR_RAIN</th>\n      <th>DE_WIND</th>\n      <th>FR_WIND</th>\n      <th>DE_TEMP</th>\n      <th>FR_TEMP</th>\n      <th>GAS_RET</th>\n      <th>COAL_RET</th>\n      <th>CARBON_RET</th>\n      <th>ID</th>\n      <th>TARGET</th>\n    </tr>\n  </thead>\n  <tbody>\n    <tr>\n      <th>count</th>\n      <td>1276.000000</td>\n      <td>1276.000000</td>\n      <td>1276.000000</td>\n      <td>1276.000000</td>\n      <td>1276.000000</td>\n      <td>1276.000000</td>\n      <td>1276.000000</td>\n      <td>1276.000000</td>\n      <td>1276.000000</td>\n      <td>1276.000000</td>\n      <td>...</td>\n      <td>1276.000000</td>\n      <td>1276.000000</td>\n      <td>1276.000000</td>\n      <td>1276.000000</td>\n      <td>1276.000000</td>\n      <td>1276.000000</td>\n      <td>1276.000000</td>\n      <td>1276.000000</td>\n      <td>1276.000000</td>\n      <td>1276.000000</td>\n    </tr>\n    <tr>\n      <th>mean</th>\n      <td>1077.272727</td>\n      <td>588.365987</td>\n      <td>0.358323</td>\n      <td>-0.114128</td>\n      <td>-0.139238</td>\n      <td>0.139238</td>\n      <td>-0.268127</td>\n      <td>-0.103871</td>\n      <td>0.268127</td>\n      <td>0.103871</td>\n      <td>...</td>\n      <td>0.003353</td>\n      <td>0.186522</td>\n      <td>0.198205</td>\n      <td>0.009948</td>\n      <td>0.010945</td>\n      <td>0.063241</td>\n      <td>0.029728</td>\n      <td>0.066230</td>\n      <td>1077.272727</td>\n      <td>0.093677</td>\n    </tr>\n    <tr>\n      <th>std</th>\n      <td>647.608506</td>\n      <td>342.278568</td>\n      <td>0.667052</td>\n      <td>0.862587</td>\n      <td>0.978287</td>\n      <td>0.978287</td>\n      <td>0.966510</td>\n      <td>1.100724</td>\n      <td>0.966510</td>\n      <td>1.100724</td>\n      <td>...</td>\n      <td>1.056972</td>\n      <td>1.071384</td>\n      <td>1.069974</td>\n      <td>0.943305</td>\n      <td>0.998779</td>\n      <td>1.115762</td>\n      <td>1.026389</td>\n      <td>1.119411</td>\n      <td>647.608506</td>\n      <td>1.071405</td>\n    </tr>\n    <tr>\n      <th>min</th>\n      <td>0.000000</td>\n      <td>1.000000</td>\n      <td>-2.265563</td>\n      <td>-1.462350</td>\n      <td>-2.856874</td>\n      <td>-2.634831</td>\n      <td>-2.464849</td>\n      <td>-2.825331</td>\n      <td>-2.279619</td>\n      <td>-1.951516</td>\n      <td>...</td>\n      <td>-1.726420</td>\n      <td>-1.880419</td>\n      <td>-1.895319</td>\n      <td>-4.549638</td>\n      <td>-5.787097</td>\n      <td>-5.349463</td>\n      <td>-5.392852</td>\n      <td>-4.281790</td>\n      <td>0.000000</td>\n      <td>-6.519268</td>\n    </tr>\n    <tr>\n      <th>25%</th>\n      <td>530.500000</td>\n      <td>292.000000</td>\n      <td>-0.076672</td>\n      <td>-0.740151</td>\n      <td>-0.963290</td>\n      <td>-0.654735</td>\n      <td>-1.008176</td>\n      <td>-0.895526</td>\n      <td>-0.452252</td>\n      <td>-0.819463</td>\n      <td>...</td>\n      <td>-0.522646</td>\n      <td>-0.616389</td>\n      <td>-0.627847</td>\n      <td>-0.612091</td>\n      <td>-0.668435</td>\n      <td>-0.651410</td>\n      <td>-0.468260</td>\n      <td>-0.545607</td>\n      <td>530.500000</td>\n      <td>-0.245709</td>\n    </tr>\n    <tr>\n      <th>50%</th>\n      <td>1159.500000</td>\n      <td>586.000000</td>\n      <td>0.281250</td>\n      <td>-0.470896</td>\n      <td>-0.105837</td>\n      <td>0.105837</td>\n      <td>-0.335690</td>\n      <td>0.065382</td>\n      <td>0.335690</td>\n      <td>-0.065382</td>\n      <td>...</td>\n      <td>-0.238458</td>\n      <td>-0.176477</td>\n      <td>-0.132396</td>\n      <td>-0.034815</td>\n      <td>-0.032882</td>\n      <td>0.000000</td>\n      <td>0.035338</td>\n      <td>0.028797</td>\n      <td>1159.500000</td>\n      <td>-0.005201</td>\n    </tr>\n    <tr>\n      <th>75%</th>\n      <td>1610.250000</td>\n      <td>884.250000</td>\n      <td>0.862662</td>\n      <td>0.436629</td>\n      <td>0.654735</td>\n      <td>0.963290</td>\n      <td>0.452252</td>\n      <td>0.819463</td>\n      <td>1.008176</td>\n      <td>0.895526</td>\n      <td>...</td>\n      <td>0.148034</td>\n      <td>0.764577</td>\n      <td>0.984079</td>\n      <td>0.630895</td>\n      <td>0.702167</td>\n      <td>0.697493</td>\n      <td>0.620505</td>\n      <td>0.588373</td>\n      <td>1610.250000</td>\n      <td>0.285540</td>\n    </tr>\n    <tr>\n      <th>max</th>\n      <td>2146.000000</td>\n      <td>1212.000000</td>\n      <td>2.033851</td>\n      <td>2.455052</td>\n      <td>2.634831</td>\n      <td>2.856874</td>\n      <td>2.279619</td>\n      <td>1.951516</td>\n      <td>2.464849</td>\n      <td>2.825331</td>\n      <td>...</td>\n      <td>9.473201</td>\n      <td>5.085624</td>\n      <td>4.965028</td>\n      <td>2.858758</td>\n      <td>2.817239</td>\n      <td>5.674778</td>\n      <td>3.607281</td>\n      <td>5.471818</td>\n      <td>2146.000000</td>\n      <td>7.786578</td>\n    </tr>\n  </tbody>\n</table>\n<p>8 rows × 36 columns</p>\n</div>"
     },
     "execution_count": 120,
     "metadata": {},
     "output_type": "execute_result"
    }
   ],
   "source": [
    "# Etude des valeurs min, max, moyennes, etc. de chaque colonne :\n",
    "data.describe()"
   ]
  },
  {
   "cell_type": "code",
   "execution_count": 121,
   "outputs": [
    {
     "data": {
      "text/plain": "False"
     },
     "execution_count": 121,
     "metadata": {},
     "output_type": "execute_result"
    }
   ],
   "source": [
    "# Vérification de l'existence de lignes dupliquées :\n",
    "data.duplicated().any()\n",
    "\n",
    "# data.duplicated().any() retourne False donc pas besoin de supprimer les lignes en double puisqu'il n'y en a pas."
   ],
   "metadata": {
    "collapsed": false,
    "ExecuteTime": {
     "end_time": "2023-05-03T14:40:21.428329Z",
     "start_time": "2023-05-03T14:40:21.422312Z"
    }
   }
  },
  {
   "cell_type": "code",
   "execution_count": 122,
   "metadata": {
    "ExecuteTime": {
     "end_time": "2023-05-03T14:40:21.431613Z",
     "start_time": "2023-05-03T14:40:21.429947Z"
    }
   },
   "outputs": [],
   "source": [
    "# On resépare les données en X et y :\n",
    "X = data.iloc[:, :-2]\n",
    "y = data.iloc[:, -2:]"
   ]
  },
  {
   "cell_type": "markdown",
   "source": [
    "# Analyse univariée des données\n",
    "On trace les histogrammes des variables pour obtenir leur évolution."
   ],
   "metadata": {
    "collapsed": false
   }
  },
  {
   "cell_type": "code",
   "execution_count": 123,
   "outputs": [],
   "source": [
    "import matplotlib\n",
    "\n",
    "matplotlib.rcParams.update({'font.size': 2})\n",
    "matplotlib.rcParams.update({'grid.linewidth': 0.5})\n",
    "matplotlib.rcParams.update({'axes.linewidth': 0.5})\n",
    "data.hist()\n",
    "# plt.show()\n",
    "plt.tight_layout()\n",
    "plt.savefig('filename.png', dpi=500)"
   ],
   "metadata": {
    "collapsed": false,
    "ExecuteTime": {
     "end_time": "2023-05-03T14:40:23.712946Z",
     "start_time": "2023-05-03T14:40:21.433432Z"
    }
   }
  },
  {
   "cell_type": "markdown",
   "metadata": {},
   "source": [
    "# Analyse bivariée des données\n",
    "En utilisant X.describe(), on remarque que la colonne ID ne devrait pas être prise en compte lors de l'analyse puisqu'elle n'a aucune dimension réelle. De la même manière, il ne faudra pas prendre en compte la colonne DAY_ID."
   ]
  },
  {
   "cell_type": "code",
   "execution_count": 124,
   "metadata": {
    "ExecuteTime": {
     "end_time": "2023-05-03T14:40:23.907670Z",
     "start_time": "2023-05-03T14:40:23.724652Z"
    }
   },
   "outputs": [
    {
     "data": {
      "text/plain": "<Axes: xlabel='DE_TEMP', ylabel='FR_TEMP'>"
     },
     "execution_count": 124,
     "metadata": {},
     "output_type": "execute_result"
    }
   ],
   "source": [
    "X.plot.scatter(\"DE_CONSUMPTION\", \"FR_CONSUMPTION\")\n",
    "X.plot.scatter(\"DE_FR_EXCHANGE\", \"FR_DE_EXCHANGE\")\n",
    "X.plot.scatter(\"DE_NET_EXPORT\", \"FR_NET_EXPORT\")\n",
    "X.plot.scatter(\"DE_NET_IMPORT\", \"FR_NET_IMPORT\")\n",
    "X.plot.scatter(\"DE_GAS\", \"FR_GAS\")\n",
    "X.plot.scatter(\"DE_COAL\", \"FR_COAL\")\n",
    "X.plot.scatter(\"DE_HYDRO\", \"FR_HYDRO\")\n",
    "X.plot.scatter(\"DE_NUCLEAR\", \"FR_NUCLEAR\")\n",
    "X.plot.scatter(\"DE_SOLAR\", \"FR_SOLAR\")\n",
    "X.plot.scatter(\"DE_WINDPOW\", \"FR_WINDPOW\")\n",
    "X.plot.scatter(\"DE_RESIDUAL_LOAD\", \"FR_RESIDUAL_LOAD\")\n",
    "X.plot.scatter(\"DE_RAIN\", \"FR_RAIN\")\n",
    "X.plot.scatter(\"DE_WIND\", \"FR_WIND\")\n",
    "X.plot.scatter(\"DE_TEMP\", \"FR_TEMP\")"
   ]
  },
  {
   "cell_type": "code",
   "execution_count": 125,
   "metadata": {
    "ExecuteTime": {
     "end_time": "2023-05-03T14:40:23.919882Z",
     "start_time": "2023-05-03T14:40:23.909134Z"
    }
   },
   "outputs": [],
   "source": [
    "from sklearn.preprocessing import StandardScaler\n",
    "\n",
    "# On split les données par pays.\n",
    "# On aura un jeu pour la France, et un autre pour l'Allemagne\n",
    "\n",
    "# Pour identifier le pays, on remplace la colonne COUNTRY ['FR', 'DE'] par les colonnes COUNTRY_FR et COUNTRY_DE ['0', '1'].\n",
    "data_per_country = pd.get_dummies(data, columns=['COUNTRY'], prefix='COUNTRY')\n",
    "\n",
    "# Séparation en deux jeux\n",
    "data_fr = data_per_country[data_per_country['COUNTRY_FR']]\n",
    "data_de = data_per_country[data_per_country['COUNTRY_DE']]\n",
    "\n",
    "# Séparation des X et des y.\n",
    "target_fr = data_fr['TARGET']\n",
    "target_de = data_de['TARGET']\n",
    "\n",
    "# On ne garde que les colonnes qui nous sont utiles :\n",
    "data_fr = data_fr[\n",
    "    ['FR_CONSUMPTION', 'FR_DE_EXCHANGE', 'FR_NET_EXPORT', 'FR_NET_IMPORT', 'FR_GAS', 'FR_COAL', 'FR_HYDRO',\n",
    "     'FR_NUCLEAR', 'FR_SOLAR', 'FR_WINDPOW', 'FR_RESIDUAL_LOAD', 'FR_RAIN', 'FR_WIND', 'FR_TEMP', 'GAS_RET', 'COAL_RET',\n",
    "     'CARBON_RET']]\n",
    "data_de = data_de[\n",
    "    ['DE_CONSUMPTION', 'DE_FR_EXCHANGE', 'DE_NET_EXPORT', 'DE_NET_IMPORT', 'DE_GAS', 'DE_COAL', 'DE_HYDRO',\n",
    "     'DE_NUCLEAR', 'DE_SOLAR', 'DE_WINDPOW', 'DE_LIGNITE', 'DE_RESIDUAL_LOAD', 'DE_RAIN', 'DE_WIND', 'DE_TEMP',\n",
    "     'GAS_RET', 'COAL_RET', 'CARBON_RET']]\n",
    "\n",
    "# On normalise\n",
    "scaler = StandardScaler()\n",
    "names = data_fr.columns\n",
    "scaled_data = scaler.fit_transform(data_fr)\n",
    "data_fr = pd.DataFrame(scaled_data, columns=names)\n",
    "\n",
    "names = data_de.columns\n",
    "scaled_data = scaler.fit_transform(data_de)\n",
    "data_de = pd.DataFrame(scaled_data, columns=names)\n"
   ]
  },
  {
   "cell_type": "code",
   "execution_count": 126,
   "outputs": [],
   "source": [
    "import math\n",
    "\n",
    "# On étudie les coefficients de corrélation\n",
    "\n",
    "# Corrélation FR\n",
    "fr = pd.concat([data_fr, target_fr], axis=1)\n",
    "sn.heatmap(fr.corr(), annot=True, cmap='RdBu')\n",
    "plt.savefig('heatmap_fr.png', dpi=500)\n",
    "plt.close()\n",
    "\n",
    "# Corrélation FR >= 0,6\n",
    "fr = pd.concat([data_fr, target_fr], axis=1)\n",
    "sn.heatmap(fr.corr()[fr.corr().abs() >= 0.6], annot=True, cmap='RdBu')\n",
    "plt.savefig('heatmap_fr_0,6.png', dpi=500)\n",
    "plt.close()\n",
    "\n",
    "# Corrélation DE\n",
    "de = pd.concat([data_de, target_de], axis=1)\n",
    "sn.heatmap(de.corr(), annot=True, cmap='RdBu')\n",
    "plt.savefig('heatmap_de.png', dpi=500)\n",
    "plt.close()\n",
    "\n",
    "# Corrélation DE >= 0,6\n",
    "de = pd.concat([data_de, target_de], axis=1)\n",
    "sn.heatmap(de.corr()[de.corr().abs() >= 0.6], annot=True, cmap='RdBu')\n",
    "plt.savefig('heatmap_de_0,6.png', dpi=500)\n",
    "plt.close()"
   ],
   "metadata": {
    "collapsed": false,
    "ExecuteTime": {
     "end_time": "2023-05-03T14:40:26.536948Z",
     "start_time": "2023-05-03T14:40:23.919064Z"
    }
   }
  },
  {
   "cell_type": "markdown",
   "metadata": {},
   "source": [
    "## Régression linéaire simple"
   ]
  },
  {
   "cell_type": "code",
   "execution_count": 127,
   "metadata": {
    "ExecuteTime": {
     "end_time": "2023-05-03T14:40:26.544735Z",
     "start_time": "2023-05-03T14:40:26.537972Z"
    }
   },
   "outputs": [
    {
     "name": "stdout",
     "output_type": "stream",
     "text": [
      "0.03491712139447767\n",
      "0.009563061773081083\n"
     ]
    }
   ],
   "source": [
    "reg_lin_simple = linear_model.LinearRegression()\n",
    "# kfold = KFold(n_splits=6)\n",
    "# kfold.split(data_fr, target_fr)\n",
    "\n",
    "data_fr_train, data_fr_test, target_fr_train, target_fr_test = train_test_split(data_fr, target_fr, random_state=10)\n",
    "\n",
    "reg_lin_simple.fit(data_fr_train, target_fr_train)\n",
    "print(reg_lin_simple.score(data_fr_train, target_fr_train))\n",
    "print(reg_lin_simple.score(data_fr_test, target_fr_test))\n",
    "\n",
    "# k = 6 # Le plus efficace d'après Elsa\n"
   ]
  },
  {
   "cell_type": "code",
   "execution_count": 130,
   "metadata": {
    "ExecuteTime": {
     "end_time": "2023-05-03T14:42:27.851298Z",
     "start_time": "2023-05-03T14:42:27.745367Z"
    }
   },
   "outputs": [
    {
     "data": {
      "text/plain": "<Figure size 640x480 with 1 Axes>",
      "image/png": "[encoded data removed]"
     },
     "metadata": {},
     "output_type": "display_data"
    }
   ],
   "source": [
    "# Affichage des coefficients et de l'importance des variables pour le modèle de reg simple\n",
    "matplotlib.rcParams.update(matplotlib.rcParamsDefault)\n",
    "\n",
    "coefficients_lin = pd.DataFrame(reg_lin_simple.coef_, index=data_fr_train.columns, columns=['Coefficient'])\n",
    "coefficients_lin.plot(kind='bar')\n",
    "plt.title('Importance des variables pour la régression linéaire simple')\n",
    "plt.show()\n",
    "# plt.savefig('reg_lin_simple.png', dpi=500)\n",
    "plt.close()"
   ]
  },
  {
   "cell_type": "code",
   "execution_count": 128,
   "outputs": [],
   "source": [],
   "metadata": {
    "collapsed": false,
    "ExecuteTime": {
     "end_time": "2023-05-03T14:40:28.149620Z",
     "start_time": "2023-05-03T14:40:28.146773Z"
    }
   }
  }
 ],
 "metadata": {
  "kernelspec": {
   "display_name": "Python 3 (ipykernel)",
   "language": "python",
   "name": "python3"
  },
  "language_info": {
   "codemirror_mode": {
    "name": "ipython",
    "version": 3
   },
   "file_extension": ".py",
   "mimetype": "text/x-python",
   "name": "python",
   "nbconvert_exporter": "python",
   "pygments_lexer": "ipython3",
   "version": "3.9.6"
  }
 },
 "nbformat": 4,
 "nbformat_minor": 1
}
